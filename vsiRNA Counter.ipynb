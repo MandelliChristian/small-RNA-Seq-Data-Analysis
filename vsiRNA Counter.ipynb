{
 "cells": [
  {
   "cell_type": "markdown",
   "id": "1780e824-a08c-48cc-a7f8-e4a60ac7c5c2",
   "metadata": {},
   "source": [
    "## Size Distribution of Total vsRNAs\n",
    "##### Once received small RNA sequencing reads, one would proceed with their alignment against a reference genome. Bowtie is used for the alignment of small RNA sequencing reads (single end sequencing) and it is possible to select an option that would provide the user with a fastq file containing the ID, the sequence and the length of all the mapped reads.\n",
    "##### The following script take this fastq file as input, and produce the distribution by length of all the mapped reads as output."
   ]
  },
  {
   "cell_type": "markdown",
   "id": "e5280236-08da-482c-b11f-8ccdbf50e9c4",
   "metadata": {},
   "source": [
    "### Install Packages and Modules"
   ]
  },
  {
   "cell_type": "code",
   "execution_count": 1,
   "id": "08acabb8-4e7e-40dc-9c3a-5baf47d4f7e4",
   "metadata": {},
   "outputs": [
    {
     "name": "stdout",
     "output_type": "stream",
     "text": [
      "Requirement already satisfied: gffutils in /Users/christianmandelli/opt/anaconda3/lib/python3.9/site-packages (0.11.0)\n",
      "Requirement already satisfied: simplejson in /Users/christianmandelli/opt/anaconda3/lib/python3.9/site-packages (from gffutils) (3.17.6)\n",
      "Requirement already satisfied: argh>=0.26.2 in /Users/christianmandelli/opt/anaconda3/lib/python3.9/site-packages (from gffutils) (0.26.2)\n",
      "Requirement already satisfied: pyfaidx>=0.5.5.2 in /Users/christianmandelli/opt/anaconda3/lib/python3.9/site-packages (from gffutils) (0.7.0)\n",
      "Requirement already satisfied: six>=1.12.0 in /Users/christianmandelli/opt/anaconda3/lib/python3.9/site-packages (from gffutils) (1.16.0)\n",
      "Requirement already satisfied: argcomplete>=1.9.4 in /Users/christianmandelli/opt/anaconda3/lib/python3.9/site-packages (from gffutils) (2.0.0)\n",
      "Requirement already satisfied: setuptools>=0.7 in /Users/christianmandelli/opt/anaconda3/lib/python3.9/site-packages (from pyfaidx>=0.5.5.2->gffutils) (58.0.4)\n",
      "Requirement already satisfied: pyfaidx in /Users/christianmandelli/opt/anaconda3/lib/python3.9/site-packages (0.7.0)\n",
      "Requirement already satisfied: six in /Users/christianmandelli/opt/anaconda3/lib/python3.9/site-packages (from pyfaidx) (1.16.0)\n",
      "Requirement already satisfied: setuptools>=0.7 in /Users/christianmandelli/opt/anaconda3/lib/python3.9/site-packages (from pyfaidx) (58.0.4)\n",
      "Requirement already satisfied: biopython in /Users/christianmandelli/opt/anaconda3/lib/python3.9/site-packages (1.79)\n",
      "Requirement already satisfied: numpy in /Users/christianmandelli/opt/anaconda3/lib/python3.9/site-packages (from biopython) (1.20.3)\n"
     ]
    }
   ],
   "source": [
    "%%sh\n",
    "pip install gffutils # https://pythonhosted.org/pyfaidx/\n",
    "pip install pyfaidx # https://pythonhosted.org/gffutils/contents.html\n",
    "pip install biopython"
   ]
  },
  {
   "cell_type": "markdown",
   "id": "1c439888-1584-478a-abcb-86ee04686133",
   "metadata": {},
   "source": [
    "#### Import modules"
   ]
  },
  {
   "cell_type": "code",
   "execution_count": 2,
   "id": "ce02d7c3-02e9-4f10-8a97-6ee4ce0ba22e",
   "metadata": {},
   "outputs": [],
   "source": [
    "import pandas as pd\n",
    "import numpy as np\n",
    "import matplotlib.pyplot as plt\n",
    "from Bio.Seq import Seq\n",
    "from Bio import SeqIO\n",
    "from Bio.SeqUtils.ProtParam import ProteinAnalysis\n",
    "import gffutils\n",
    "import pyfaidx"
   ]
  },
  {
   "cell_type": "markdown",
   "id": "681cd064-98f7-4b07-a1a8-2839afcc150e",
   "metadata": {},
   "source": [
    "#### Python Analysis"
   ]
  },
  {
   "cell_type": "code",
   "execution_count": 3,
   "id": "7fbb177b-c118-40e3-bb56-a00f36dc26b4",
   "metadata": {},
   "outputs": [],
   "source": [
    "# Notebook specific behavior setup\n",
    "from IPython.core.interactiveshell import InteractiveShell\n",
    "InteractiveShell.ast_node_interactivity = \"all\"\n",
    "\n",
    "pd.options.display.max_columns = 10\n",
    "\n",
    "%matplotlib inline \n",
    "%config InlineBackend.figure_format = 'svg'\n",
    "plt.style.use(\"ggplot\")"
   ]
  },
  {
   "cell_type": "markdown",
   "id": "038bfd1a-57ca-466c-8b31-379fdfb57d32",
   "metadata": {},
   "source": [
    "##### The input fastq file is the one obtained as output of the alignment through Bowtie during the alignment together with SAM/BAM files"
   ]
  },
  {
   "cell_type": "code",
   "execution_count": null,
   "id": "1f673250-2df9-4471-b134-af6000f3836e",
   "metadata": {},
   "outputs": [],
   "source": [
    "import sys\n",
    "from Bio import SeqIO\n",
    "\n",
    "reads_counter = 0\n",
    "nt20 = 0\n",
    "nt21 = 0\n",
    "nt22 = 0\n",
    "nt23 = 0\n",
    "nt24 = 0\n",
    "nt25 = 0\n",
    "nt26 = 0\n",
    "\n",
    "for record in SeqIO.parse(\"TRV1mapping.fastq\", 'fastq'):\n",
    "    reads_counter += 1\n",
    "    id = record.id\n",
    "    length = len(record.seq)\n",
    "    if length == 20:\n",
    "        nt20 += 1\n",
    "    elif length == 21:\n",
    "        nt21 += 1\n",
    "    elif length == 22:\n",
    "        nt22 += 1\n",
    "    elif length == 23:\n",
    "        nt23 += 1\n",
    "    elif length == 24:\n",
    "        nt24 += 1\n",
    "    elif length == 25:\n",
    "        nt25 += 1    \n",
    "    elif length == 26:\n",
    "        nt26 += 1    \n",
    "        \n",
    "percentage20 = round(((nt20/reads_counter)*100), 2)\n",
    "percentage21 = round(((nt21/reads_counter)*100), 2)\n",
    "percentage22 = round(((nt22/reads_counter)*100), 2)\n",
    "percentage23 = round(((nt23/reads_counter)*100), 2)\n",
    "percentage24 = round(((nt24/reads_counter)*100), 2)\n",
    "percentage25 = round(((nt25/reads_counter)*100), 2)\n",
    "percentage26 = round(((nt26/reads_counter)*100), 2)\n",
    "\n",
    "print(\"I parsed \" + str(reads_counter) + \" reads total!\")\n",
    "print(\"This is how they are distributed in relation to sequence length: \")\n",
    "print()\n",
    "print(\"20 nts = \" + str(percentage20) + '%')\n",
    "print(\"21 nts = \" + str(percentage21) + '%')\n",
    "print(\"22 nts = \" + str(percentage22) + '%')\n",
    "print(\"23 nts = \" + str(percentage23) + '%')\n",
    "print(\"24 nts = \" + str(percentage24) + '%')\n",
    "print(\"25 nts = \" + str(percentage25) + '%')\n",
    "print(\"26 nts = \" + str(percentage26) + '%')\n"
   ]
  },
  {
   "cell_type": "markdown",
   "id": "1b852ebb-006d-4e97-ae6f-6150d6b6e117",
   "metadata": {},
   "source": [
    "*Notebook Created By: Christian Mandelli, Oregon State University*"
   ]
  }
 ],
 "metadata": {
  "kernelspec": {
   "display_name": "Python 3 (ipykernel)",
   "language": "python",
   "name": "python3"
  },
  "language_info": {
   "codemirror_mode": {
    "name": "ipython",
    "version": 3
   },
   "file_extension": ".py",
   "mimetype": "text/x-python",
   "name": "python",
   "nbconvert_exporter": "python",
   "pygments_lexer": "ipython3",
   "version": "3.9.7"
  }
 },
 "nbformat": 4,
 "nbformat_minor": 5
}
